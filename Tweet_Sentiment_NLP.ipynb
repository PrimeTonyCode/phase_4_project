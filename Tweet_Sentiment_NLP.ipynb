{
 "cells": [
  {
   "cell_type": "markdown",
   "id": "4a285197",
   "metadata": {},
   "source": [
    "# Apple and Google Tweet Sentiment Analysis\n",
    "\n",
    "## Introduction\n",
    "\n",
    "In today's digital economy, social media platforms serve as critical touchpoints between consumers and brands. Tweets, in particular, offer real-time insights into public opinion, customer satisfaction, and brand perception. This project leverages Natural Language Processing (NLP) techniques to analyze public sentiment toward Apple and Google products. By using a dataset of 9,093 tweets, each labeled as positive, negative, or neutral, we aim to develop predictive models capable of accurately classifying sentiment. \n",
    "\n",
    "This project demonstrates advanced supervised machine learning methods applied to textual data. We will begin with a binary classification approach, distinguishing positive from negative sentiment, before expanding to multiclass classification to include neutral tweets. Additionally, advanced NLP techniques, such as TF-IDF vectorization, word embeddings, and optionally transformer-based models like BERT, will be considered to enhance performance. The final deliverables will include a reproducible workflow, evaluation metrics, and actionable insights for stakeholders.\n",
    "\n",
    "The primary objective is to create a proof-of-concept sentiment analysis system that not only predicts sentiment accurately but also provides interpretable insights for decision-making. This project highlights a structured, end-to-end NLP pipeline, demonstrating our proficiency in data preprocessing, feature engineering, model development, evaluation, and business-oriented interpretation of results.\n",
    "\n",
    "---\n",
    "\n",
    "## Business Understanding\n",
    "\n",
    "Understanding public sentiment on social media is crucial for technology companies such as Apple and Google. Stakeholders—including product managers, marketing teams, and customer experience departments—rely on timely, actionable insights to make informed decisions regarding product development, brand positioning, and customer engagement strategies.\n",
    "\n",
    "The objectives of this project are threefold:\n",
    "\n",
    "1. **Sentiment Classification:** Develop models capable of automatically classifying tweets as positive, negative, or neutral, thereby quantifying customer sentiment at scale.\n",
    "2. **Trend Analysis:** Identify patterns in public opinion to detect emerging issues, customer satisfaction levels, and potential product strengths or weaknesses.\n",
    "3. **Business Actionability:** Enable stakeholders to implement data-driven interventions, such as addressing negative feedback promptly, amplifying positive experiences, or tailoring marketing campaigns to current sentiment trends.\n",
    "\n",
    "The business value of this project lies in its ability to transform unstructured social media data into structured, actionable intelligence. Accurate sentiment analysis enables proactive brand management, real-time product monitoring, and improved customer engagement. By providing both predictive accuracy and interpretability, this project empowers stakeholders to make strategic decisions that directly impact brand perception and customer satisfaction.\n",
    "\n",
    "\n",
    "## Data Understanding\n",
    "\n",
    "The dataset originates from CrowdFlower via data.world and contains **9,093 labeled tweets** spanning multiple brands and products. Contributors manually annotated each tweet based on sentiment: positive, negative, or neutral. When sentiment was expressed, the specific target brand or product was also identified, enabling granular analysis.\n",
    "\n",
    "### Key Properties of the Dataset:\n",
    "- **Text content:** Raw tweet messages containing informal language, abbreviations, hashtags, mentions, emojis, and other social media-specific text features.\n",
    "- **Sentiment label:** Target variable with three classes: `positive`, `negative`, `neutral`.\n",
    "- **Target brand/product (optional):** Identifies which product or brand the sentiment pertains to, enabling more nuanced analysis if required.\n",
    "\n",
    "### Dataset Utility:\n",
    "- **Supervised Learning Suitability:** The presence of labeled sentiment allows training of supervised classification models. This enables robust evaluation and iterative improvement of model performance.\n",
    "- **Sample Size Adequacy:** With over 9,000 tweets, the dataset provides sufficient representation for initial model development, hyperparameter tuning, and validation.\n",
    "- **Real-World Relevance:** Tweets reflect authentic, unfiltered public opinion, making insights derived from this data highly applicable to brand management and marketing strategies.\n",
    "\n",
    "### Limitations and Challenges:\n",
    "- **Language Constraints:** The dataset primarily contains English-language tweets, which may limit global applicability.\n",
    "- **Text Complexity:** Tweets include slang, abbreviations, emojis, and non-standard grammar, necessitating careful preprocessing.\n",
    "- **Class Imbalance:** Neutral sentiment may dominate the dataset, creating potential challenges for model learning and requiring consideration of class weighting or sampling techniques.\n",
    "- **Temporal Considerations:** Tweets were collected prior to 2013; modern sentiment trends may differ, though the dataset remains valuable for modeling and methodological demonstration.\n",
    "\n",
    "**Added:** August 30, 2013 by Kent Cavender-Bares\n",
    "\n",
    "This dataset offers a strong foundation for building an end-to-end NLP pipeline, demonstrating data preparation, feature extraction, model development, evaluation, and business-oriented interpretation of sentiment trends.\n"
   ]
  },
  {
   "cell_type": "markdown",
   "id": "e3c4ed91",
   "metadata": {},
   "source": [
    "## Data Preparation"
   ]
  },
  {
   "cell_type": "code",
   "execution_count": 97,
   "id": "defaf0e2",
   "metadata": {},
   "outputs": [
    {
     "name": "stderr",
     "output_type": "stream",
     "text": [
      "[nltk_data] Downloading package stopwords to\n",
      "[nltk_data]     C:\\Users\\Administrator\\AppData\\Roaming\\nltk_data...\n",
      "[nltk_data]   Package stopwords is already up-to-date!\n",
      "[nltk_data] Downloading package punkt to\n",
      "[nltk_data]     C:\\Users\\Administrator\\AppData\\Roaming\\nltk_data...\n",
      "[nltk_data]   Package punkt is already up-to-date!\n",
      "[nltk_data] Downloading package wordnet to\n",
      "[nltk_data]     C:\\Users\\Administrator\\AppData\\Roaming\\nltk_data...\n",
      "[nltk_data]   Package wordnet is already up-to-date!\n"
     ]
    },
    {
     "data": {
      "text/plain": [
       "True"
      ]
     },
     "execution_count": 97,
     "metadata": {},
     "output_type": "execute_result"
    }
   ],
   "source": [
    "# Data Handling\n",
    "import pandas as pd\n",
    "import numpy as np\n",
    "\n",
    "# Text Preprocessing\n",
    "import re\n",
    "import string\n",
    "import nltk\n",
    "from nltk.corpus import stopwords\n",
    "from nltk.stem import WordNetLemmatizer\n",
    "\n",
    "# Feature Extraction\n",
    "from sklearn.feature_extraction.text import CountVectorizer, TfidfVectorizer\n",
    "\n",
    "# Data Splitting\n",
    "from sklearn.model_selection import train_test_split\n",
    "\n",
    "# Handling Imbalance\n",
    "from imblearn.over_sampling import SMOTE\n",
    "\n",
    "# Visualization\n",
    "import matplotlib.pyplot as plt\n",
    "import seaborn as sns\n",
    "#from wordcloud import WordCloud\n",
    "\n",
    "# Warnings\n",
    "import warnings\n",
    "warnings.filterwarnings('ignore')\n",
    "\n",
    "# Download NLTK resources (only need to run once)\n",
    "nltk.download('stopwords')\n",
    "nltk.download('punkt')\n",
    "nltk.download('wordnet')"
   ]
  },
  {
   "cell_type": "code",
   "execution_count": 98,
   "id": "d9be36be",
   "metadata": {},
   "outputs": [
    {
     "name": "stdout",
     "output_type": "stream",
     "text": [
      "('application/vnd.ms-excel', None)\n"
     ]
    }
   ],
   "source": [
    "import mimetypes\n",
    "print(mimetypes.guess_type(\"Data.csv\"))"
   ]
  },
  {
   "cell_type": "code",
   "execution_count": 99,
   "id": "fb451216",
   "metadata": {},
   "outputs": [
    {
     "data": {
      "text/html": [
       "<div>\n",
       "<style scoped>\n",
       "    .dataframe tbody tr th:only-of-type {\n",
       "        vertical-align: middle;\n",
       "    }\n",
       "\n",
       "    .dataframe tbody tr th {\n",
       "        vertical-align: top;\n",
       "    }\n",
       "\n",
       "    .dataframe thead th {\n",
       "        text-align: right;\n",
       "    }\n",
       "</style>\n",
       "<table border=\"1\" class=\"dataframe\">\n",
       "  <thead>\n",
       "    <tr style=\"text-align: right;\">\n",
       "      <th></th>\n",
       "      <th>tweet_text</th>\n",
       "      <th>emotion_in_tweet_is_directed_at</th>\n",
       "      <th>is_there_an_emotion_directed_at_a_brand_or_product</th>\n",
       "    </tr>\n",
       "  </thead>\n",
       "  <tbody>\n",
       "    <tr>\n",
       "      <th>0</th>\n",
       "      <td>.@wesley83 I have a 3G iPhone. After 3 hrs twe...</td>\n",
       "      <td>iPhone</td>\n",
       "      <td>Negative emotion</td>\n",
       "    </tr>\n",
       "    <tr>\n",
       "      <th>1</th>\n",
       "      <td>@jessedee Know about @fludapp ? Awesome iPad/i...</td>\n",
       "      <td>iPad or iPhone App</td>\n",
       "      <td>Positive emotion</td>\n",
       "    </tr>\n",
       "    <tr>\n",
       "      <th>2</th>\n",
       "      <td>@swonderlin Can not wait for #iPad 2 also. The...</td>\n",
       "      <td>iPad</td>\n",
       "      <td>Positive emotion</td>\n",
       "    </tr>\n",
       "    <tr>\n",
       "      <th>3</th>\n",
       "      <td>@sxsw I hope this year's festival isn't as cra...</td>\n",
       "      <td>iPad or iPhone App</td>\n",
       "      <td>Negative emotion</td>\n",
       "    </tr>\n",
       "    <tr>\n",
       "      <th>4</th>\n",
       "      <td>@sxtxstate great stuff on Fri #SXSW: Marissa M...</td>\n",
       "      <td>Google</td>\n",
       "      <td>Positive emotion</td>\n",
       "    </tr>\n",
       "  </tbody>\n",
       "</table>\n",
       "</div>"
      ],
      "text/plain": [
       "                                          tweet_text  \\\n",
       "0  .@wesley83 I have a 3G iPhone. After 3 hrs twe...   \n",
       "1  @jessedee Know about @fludapp ? Awesome iPad/i...   \n",
       "2  @swonderlin Can not wait for #iPad 2 also. The...   \n",
       "3  @sxsw I hope this year's festival isn't as cra...   \n",
       "4  @sxtxstate great stuff on Fri #SXSW: Marissa M...   \n",
       "\n",
       "  emotion_in_tweet_is_directed_at  \\\n",
       "0                          iPhone   \n",
       "1              iPad or iPhone App   \n",
       "2                            iPad   \n",
       "3              iPad or iPhone App   \n",
       "4                          Google   \n",
       "\n",
       "  is_there_an_emotion_directed_at_a_brand_or_product  \n",
       "0                                   Negative emotion  \n",
       "1                                   Positive emotion  \n",
       "2                                   Positive emotion  \n",
       "3                                   Negative emotion  \n",
       "4                                   Positive emotion  "
      ]
     },
     "execution_count": 99,
     "metadata": {},
     "output_type": "execute_result"
    }
   ],
   "source": [
    "# Load the dataset\n",
    "data = pd.read_csv(\"Data.xls\", encoding='latin1')\n",
    "data.head()"
   ]
  },
  {
   "cell_type": "code",
   "execution_count": 100,
   "id": "06ef40ad",
   "metadata": {},
   "outputs": [
    {
     "name": "stdout",
     "output_type": "stream",
     "text": [
      "<class 'pandas.core.frame.DataFrame'>\n",
      "RangeIndex: 9093 entries, 0 to 9092\n",
      "Data columns (total 3 columns):\n",
      " #   Column                                              Non-Null Count  Dtype \n",
      "---  ------                                              --------------  ----- \n",
      " 0   tweet_text                                          9092 non-null   object\n",
      " 1   emotion_in_tweet_is_directed_at                     3291 non-null   object\n",
      " 2   is_there_an_emotion_directed_at_a_brand_or_product  9093 non-null   object\n",
      "dtypes: object(3)\n",
      "memory usage: 213.2+ KB\n"
     ]
    }
   ],
   "source": [
    "# Check basic info\n",
    "data.info()"
   ]
  },
  {
   "cell_type": "code",
   "execution_count": 101,
   "id": "bfc7339d",
   "metadata": {},
   "outputs": [
    {
     "name": "stdout",
     "output_type": "stream",
     "text": [
      "tweet_text                                               1\n",
      "emotion_in_tweet_is_directed_at                       5802\n",
      "is_there_an_emotion_directed_at_a_brand_or_product       0\n",
      "dtype: int64\n"
     ]
    }
   ],
   "source": [
    "# Check for missing values\n",
    "print(data.isnull().sum())"
   ]
  },
  {
   "cell_type": "markdown",
   "id": "b5451a53",
   "metadata": {},
   "source": [
    "### Data Cleaning"
   ]
  },
  {
   "cell_type": "code",
   "execution_count": 102,
   "id": "866481c5",
   "metadata": {},
   "outputs": [],
   "source": [
    "# Drop rows with missing tweet_text\n",
    "\n",
    "data = data.dropna(subset=['tweet_text'])"
   ]
  },
  {
   "cell_type": "code",
   "execution_count": 103,
   "id": "63954f20",
   "metadata": {},
   "outputs": [],
   "source": [
    "data = data.drop(columns=['emotion_in_tweet_is_directed_at'])"
   ]
  },
  {
   "cell_type": "code",
   "execution_count": 104,
   "id": "54b4b2d6",
   "metadata": {},
   "outputs": [],
   "source": [
    "# Rename target column for simplicity\n",
    "data.rename(columns={'is_there_an_emotion_directed_at_a_brand_or_product': 'sentiment'}, inplace=True)"
   ]
  },
  {
   "cell_type": "code",
   "execution_count": 105,
   "id": "476c2875",
   "metadata": {},
   "outputs": [
    {
     "name": "stdout",
     "output_type": "stream",
     "text": [
      "No emotion toward brand or product    5388\n",
      "Positive emotion                      2978\n",
      "Negative emotion                       570\n",
      "I can't tell                           156\n",
      "Name: sentiment, dtype: int64\n"
     ]
    }
   ],
   "source": [
    "# Check sentiment value counts\n",
    "print(data['sentiment'].value_counts())"
   ]
  },
  {
   "cell_type": "code",
   "execution_count": 106,
   "id": "b70f15b1",
   "metadata": {},
   "outputs": [
    {
     "name": "stdout",
     "output_type": "stream",
     "text": [
      "tweet_text    0\n",
      "sentiment     0\n",
      "dtype: int64\n"
     ]
    }
   ],
   "source": [
    "# checking nulls\n",
    "print(data.isnull().sum())"
   ]
  },
  {
   "cell_type": "code",
   "execution_count": 107,
   "id": "b030f4b5",
   "metadata": {},
   "outputs": [],
   "source": [
    "# Keep only Positive and Negative\n",
    "binary_data = data[data['sentiment'].isin(['Positive emotion', 'Negative emotion'])].copy()"
   ]
  },
  {
   "cell_type": "code",
   "execution_count": 108,
   "id": "63031ef8",
   "metadata": {},
   "outputs": [],
   "source": [
    "# Map sentiment to 0 and 1\n",
    "binary_data['sentiment'] = binary_data['sentiment'].map({'Negative emotion': 0, 'Positive emotion': 1})"
   ]
  },
  {
   "cell_type": "code",
   "execution_count": 109,
   "id": "f5c54f21",
   "metadata": {},
   "outputs": [
    {
     "name": "stdout",
     "output_type": "stream",
     "text": [
      "1    2978\n",
      "0     570\n",
      "Name: sentiment, dtype: int64\n"
     ]
    }
   ],
   "source": [
    "# Check class distribution\n",
    "print(binary_data['sentiment'].value_counts())"
   ]
  },
  {
   "cell_type": "markdown",
   "id": "42b852d5",
   "metadata": {},
   "source": [
    "### Text Preprocessing"
   ]
  },
  {
   "cell_type": "code",
   "execution_count": 110,
   "id": "9a58abe5",
   "metadata": {},
   "outputs": [
    {
     "name": "stdout",
     "output_type": "stream",
     "text": [
      "                                          tweet_text\n",
      "0  iphone hr tweeting dead need upgrade plugin st...\n",
      "1  know awesome ipadiphone app youll likely appre...\n",
      "2                                     wait also sale\n",
      "3     hope year festival isnt crashy year iphone app\n",
      "4  great stuff fri marissa mayer google tim oreil...\n"
     ]
    }
   ],
   "source": [
    "# Initialize lemmatizer and stopwords\n",
    "lemmatizer = WordNetLemmatizer()\n",
    "stop_words = set(stopwords.words('english'))\n",
    "\n",
    "def clean_text(text):\n",
    "    # 1. Lowercase\n",
    "    text = text.lower()\n",
    "\n",
    "    # 2. Remove URLs\n",
    "    text = re.sub(r'http\\S+|www\\S+|https\\S+', '', text, flags=re.MULTILINE)\n",
    "\n",
    "    # 3. Remove mentions and hashtags\n",
    "\n",
    "    text = re.sub(r'@\\w+|#\\w+', '', text)\n",
    "\n",
    "    # 4. Remove punctuation and numbers\n",
    "\n",
    "    text = re.sub(r'[^a-zA-Z\\s]', '', text)\n",
    "\n",
    "    # 5. Tokenize\n",
    "    tokens = nltk.word_tokenize(text)\n",
    "\n",
    "    # 6. Remove stopwords and short words\n",
    "    tokens = [word for word in tokens if word not in stop_words and len(word) > 2]\n",
    "\n",
    "    # 7. Lemmatize\n",
    "    tokens = [lemmatizer.lemmatize(word) for word in tokens]\n",
    "\n",
    "    # 8. Join back into string\n",
    "    return ' '.join(tokens)\n",
    "\n",
    "# Apply cleaning to tweet_text\n",
    "binary_data['tweet_text'] = binary_data['tweet_text'].apply(clean_text)\n",
    "\n",
    "# Preview\n",
    "print(binary_data[['tweet_text']].head())\n"
   ]
  },
  {
   "cell_type": "code",
   "execution_count": 111,
   "id": "d1d620af",
   "metadata": {},
   "outputs": [
    {
     "data": {
      "image/png": "[encoded data removed]",
      "text/plain": [
       "<Figure size 432x288 with 1 Axes>"
      ]
     },
     "metadata": {
      "needs_background": "light"
     },
     "output_type": "display_data"
    },
    {
     "name": "stdout",
     "output_type": "stream",
     "text": [
      "1    2978\n",
      "0     570\n",
      "Name: sentiment, dtype: int64\n"
     ]
    }
   ],
   "source": [
    "# Check sentiment distribution\n",
    "sns.countplot(x='sentiment', data=binary_data)\n",
    "plt.title(\"Sentiment Distribution (Binary)\")\n",
    "plt.xticks([0,1], ['Negative', 'Positive'])\n",
    "plt.show()\n",
    "\n",
    "# Print exact counts\n",
    "print(binary_data['sentiment'].value_counts())\n"
   ]
  },
  {
   "cell_type": "code",
   "execution_count": 112,
   "id": "745541d5",
   "metadata": {},
   "outputs": [
    {
     "name": "stdout",
     "output_type": "stream",
     "text": [
      "Before SMOTE: 1    2382\n",
      "0     456\n",
      "Name: sentiment, dtype: int64\n",
      "After SMOTE: 1    2382\n",
      "0    2382\n",
      "Name: sentiment, dtype: int64\n"
     ]
    }
   ],
   "source": [
    "#from sklearn.feature_extraction.text import TfidfVectorizer\n",
    "#from sklearn.model_selection import train_test_split\n",
    "#from imblearn.over_sampling import SMOTE\n",
    "\n",
    "# Split data\n",
    "X = binary_data['tweet_text']\n",
    "y = binary_data['sentiment']\n",
    "\n",
    "X_train, X_test, y_train, y_test = train_test_split(X, y, test_size=0.2, random_state=42, stratify=y)\n",
    "\n",
    "# TF-IDF vectorization\n",
    "tfidf = TfidfVectorizer(max_features=5000, ngram_range=(1,2))  # Use unigrams and bigrams\n",
    "X_train_tfidf = tfidf.fit_transform(X_train)\n",
    "X_test_tfidf = tfidf.transform(X_test)\n",
    "\n",
    "# Check original class distribution in training\n",
    "print(\"Before SMOTE:\", y_train.value_counts())\n",
    "\n",
    "# Apply SMOTE\n",
    "smote = SMOTE(random_state=42)\n",
    "X_train_smote, y_train_smote = smote.fit_resample(X_train_tfidf, y_train)\n",
    "\n",
    "# Check new distribution\n",
    "print(\"After SMOTE:\", y_train_smote.value_counts())\n"
   ]
  }
 ],
 "metadata": {
  "kernelspec": {
   "display_name": "learn-env",
   "language": "python",
   "name": "python3"
  },
  "language_info": {
   "codemirror_mode": {
    "name": "ipython",
    "version": 3
   },
   "file_extension": ".py",
   "mimetype": "text/x-python",
   "name": "python",
   "nbconvert_exporter": "python",
   "pygments_lexer": "ipython3",
   "version": "3.8.5"
  }
 },
 "nbformat": 4,
 "nbformat_minor": 5
}
